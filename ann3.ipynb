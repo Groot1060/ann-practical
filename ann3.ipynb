{
 "cells": [
  {
   "cell_type": "code",
   "execution_count": 1,
   "id": "6853989d",
   "metadata": {},
   "outputs": [],
   "source": [
    "# Write a program for producing back propagation feed forward network"
   ]
  },
  {
   "cell_type": "code",
   "execution_count": 2,
   "id": "1b2e44c6",
   "metadata": {},
   "outputs": [],
   "source": [
    "#Back propagation algorithm- code\n",
    "# importing the library\n",
    "import numpy as np"
   ]
  },
  {
   "cell_type": "code",
   "execution_count": 3,
   "id": "1b1461a1",
   "metadata": {},
   "outputs": [
    {
     "name": "stdout",
     "output_type": "stream",
     "text": [
      "\n",
      " Input:\n",
      "[[1 0 1 0]\n",
      " [1 0 1 1]\n",
      " [0 1 0 1]]\n"
     ]
    }
   ],
   "source": [
    "# creating the input array\n",
    "X=np.array([[1,0,1,0],[1,0,1,1],[0,1,0,1]])\n",
    "print (\"\\n Input:\")\n",
    "print(X)\n"
   ]
  },
  {
   "cell_type": "code",
   "execution_count": 4,
   "id": "76ef07ec",
   "metadata": {},
   "outputs": [
    {
     "name": "stdout",
     "output_type": "stream",
     "text": [
      "\n",
      " Actual Output:\n",
      "[[1]\n",
      " [1]\n",
      " [0]]\n"
     ]
    }
   ],
   "source": [
    "# creating the output array\n",
    "y=np.array([[1],[1],[0]])\n",
    "print (\"\\n Actual Output:\")\n",
    "print(y)"
   ]
  },
  {
   "cell_type": "code",
   "execution_count": 5,
   "id": "303bbff9",
   "metadata": {},
   "outputs": [],
   "source": [
    "# defining the Sigmoid Function\n",
    "def sigmoid (x):\n",
    "    return 1/(1 + np.exp(-x))"
   ]
  },
  {
   "cell_type": "code",
   "execution_count": 6,
   "id": "80a8230f",
   "metadata": {},
   "outputs": [],
   "source": [
    "# derivative of Sigmoid Function\n",
    "def derivatives_sigmoid(x):\n",
    "    return x * (1 - x)"
   ]
  },
  {
   "cell_type": "code",
   "execution_count": 7,
   "id": "89a32f1c",
   "metadata": {},
   "outputs": [],
   "source": [
    "# initializing the variables\n",
    "epoch=5000 # number of training iterations\n",
    "lr=0.1 # learning rate\n",
    "inputlayer_neurons = X.shape[1] # number of features in data set\n",
    "hiddenlayer_neurons = 3 # number of hidden layers neurons"
   ]
  },
  {
   "cell_type": "code",
   "execution_count": 8,
   "id": "c080c264",
   "metadata": {},
   "outputs": [],
   "source": [
    "output_neurons = 1 # number of neurons at output layer"
   ]
  },
  {
   "cell_type": "code",
   "execution_count": 9,
   "id": "3517f8fd",
   "metadata": {},
   "outputs": [],
   "source": [
    "# initializing weight and bias\n",
    "wh=np.random.uniform(size=(inputlayer_neurons,hiddenlayer_neurons))#weight of hidden layer\n",
    "bh=np.random.uniform(size=(1,hiddenlayer_neurons))#bise of hidden layer\n",
    "wout=np.random.uniform(size=(hiddenlayer_neurons,output_neurons))#weight of output layer\n",
    "bout=np.random.uniform(size=(1,output_neurons))#bise of output layer"
   ]
  },
  {
   "cell_type": "code",
   "execution_count": 10,
   "id": "546c9b21",
   "metadata": {},
   "outputs": [
    {
     "name": "stdout",
     "output_type": "stream",
     "text": [
      "\n",
      " Output from the model:\n",
      "[[0.97857671]\n",
      " [0.96953446]\n",
      " [0.03750439]]\n"
     ]
    }
   ],
   "source": [
    "# training the model\n",
    "for i in range(epoch):\n",
    "\n",
    "    #Forward Propagation\n",
    "    hidden_layer_input1=np.dot(X,wh)\n",
    "    hidden_layer_input=hidden_layer_input1 + bh\n",
    "    hiddenlayer_activations = sigmoid(hidden_layer_input)\n",
    "    output_layer_input1=np.dot(hiddenlayer_activations,wout)\n",
    "    output_layer_input= output_layer_input1+ bout\n",
    "    output = sigmoid(output_layer_input)\n",
    "    \n",
    "    #Backpropagation\n",
    "    E = y-output\n",
    "    slope_output_layer = derivatives_sigmoid(output)\n",
    "    slope_hidden_layer = derivatives_sigmoid(hiddenlayer_activations)\n",
    "    d_output = E * slope_output_layer\n",
    "    \n",
    "    Error_at_hidden_layer = d_output.dot(wout.T)\n",
    "    d_hiddenlayer = Error_at_hidden_layer * slope_hidden_layer\n",
    "    wout += hiddenlayer_activations.T.dot(d_output) *lr\n",
    "    bout += np.sum(d_output, axis=0,keepdims=True) *lr\n",
    "    wh += X.T.dot(d_hiddenlayer) *lr\n",
    "    bh += np.sum(d_hiddenlayer, axis=0,keepdims=True) *lr\n",
    "    \n",
    "print (\"\\n Output from the model:\")\n",
    "print (output)"
   ]
  },
  {
   "cell_type": "code",
   "execution_count": null,
   "id": "69c6e48a",
   "metadata": {},
   "outputs": [],
   "source": []
  }
 ],
 "metadata": {
  "kernelspec": {
   "display_name": "Python 3 (ipykernel)",
   "language": "python",
   "name": "python3"
  },
  "language_info": {
   "codemirror_mode": {
    "name": "ipython",
    "version": 3
   },
   "file_extension": ".py",
   "mimetype": "text/x-python",
   "name": "python",
   "nbconvert_exporter": "python",
   "pygments_lexer": "ipython3",
   "version": "3.11.9"
  }
 },
 "nbformat": 4,
 "nbformat_minor": 5
}
