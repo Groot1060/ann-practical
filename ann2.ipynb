{
 "cells": [
  {
   "cell_type": "code",
   "execution_count": 1,
   "id": "559ba76d",
   "metadata": {},
   "outputs": [],
   "source": [
    "# Write a program to show back propagation network for XOR function with binary input and output   \n",
    "import numpy as np"
   ]
  },
  {
   "cell_type": "code",
   "execution_count": 2,
   "id": "a9cfd405",
   "metadata": {},
   "outputs": [],
   "source": [
    "def sigmoid (x):\n",
    "    return 1/(1 + np.exp(-x))"
   ]
  },
  {
   "cell_type": "code",
   "execution_count": 3,
   "id": "4bdec722",
   "metadata": {},
   "outputs": [],
   "source": [
    "def sigmoid_derivative(x):\n",
    "    return x * (1 - x)"
   ]
  },
  {
   "cell_type": "code",
   "execution_count": 4,
   "id": "1a7d5d31",
   "metadata": {},
   "outputs": [],
   "source": [
    "#Input datasets\n",
    "inputs = np.array([[0,0],[0,1],[1,0],[1,1]])\n",
    "expected_output = np.array([[0],[1],[1],[0]])\n",
    "epochs = 10000\n",
    "lr = 0.1\n",
    "inputLayerNeurons, hiddenLayerNeurons, outputLayerNeurons = 2,2,1"
   ]
  },
  {
   "cell_type": "code",
   "execution_count": 5,
   "id": "db03dca4",
   "metadata": {},
   "outputs": [
    {
     "name": "stdout",
     "output_type": "stream",
     "text": [
      "Initial hidden weights:\n",
      "[0.97135312 0.94728687] [0.14863627 0.30841401]\n",
      "Initial hidden biases:\n",
      "[0.6276371  0.30961662]\n",
      "Initial output weights:\n",
      "[0.57970812] [0.18590442]\n",
      "Initial output biases:\n",
      "[0.5280786]\n"
     ]
    }
   ],
   "source": [
    "#Random weights and bias initialization\n",
    "hidden_weights = np.random.uniform(size=(inputLayerNeurons,hiddenLayerNeurons))\n",
    "hidden_bias = np.random.uniform(size=(1,hiddenLayerNeurons))\n",
    "output_weights = np.random.uniform(size=(hiddenLayerNeurons,outputLayerNeurons))\n",
    "output_bias = np.random.uniform(size=(1,outputLayerNeurons))\n",
    "print(\"Initial hidden weights:\")\n",
    "print(*hidden_weights)\n",
    "print(\"Initial hidden biases:\")\n",
    "print(*hidden_bias)\n",
    "print(\"Initial output weights:\")\n",
    "print(*output_weights)\n",
    "print(\"Initial output biases:\")\n",
    "print(*output_bias)"
   ]
  },
  {
   "cell_type": "code",
   "execution_count": 6,
   "id": "90733aa2",
   "metadata": {},
   "outputs": [
    {
     "name": "stdout",
     "output_type": "stream",
     "text": [
      "\n",
      "Final hidden weights:\n",
      "[6.05216362 3.56398171] [5.74438626 3.51263087]\n",
      "Final hidden bias:\n",
      "[-2.41310486 -5.40305395]\n",
      "Final output weights:\n",
      "[7.32506065] [-7.98757626]\n",
      "Final output bias:\n",
      "[-3.26679908]\n",
      "\n",
      "Output from neural network after 10,000 epochs:\n",
      "[0.06294261] [0.94032843] [0.94130931] [0.06487935]\n"
     ]
    }
   ],
   "source": [
    "#Training algorithm\n",
    "for _ in range(epochs):\n",
    "    #Forward Propagation\n",
    "    hidden_layer_activation = np.dot(inputs,hidden_weights)\n",
    "    hidden_layer_activation += hidden_bias\n",
    "    hidden_layer_output = sigmoid(hidden_layer_activation)\n",
    "    output_layer_activation = np.dot(hidden_layer_output,output_weights)\n",
    "    output_layer_activation += output_bias\n",
    "    predicted_output = sigmoid(output_layer_activation)\n",
    "    #Backpropagation\n",
    "    error = expected_output - predicted_output\n",
    "    d_predicted_output = error * sigmoid_derivative(predicted_output)\n",
    "    \n",
    "    error_hidden_layer = d_predicted_output.dot(output_weights.T)\n",
    "    d_hidden_layer = error_hidden_layer * sigmoid_derivative(hidden_layer_output)\n",
    "    #Updating Weights and Biases\n",
    "    output_weights += hidden_layer_output.T.dot(d_predicted_output) * lr\n",
    "    output_bias += np.sum(d_predicted_output,axis=0,keepdims=True) * lr\n",
    "    hidden_weights += inputs.T.dot(d_hidden_layer) * lr\n",
    "    hidden_bias += np.sum(d_hidden_layer,axis=0,keepdims=True) * lr\n",
    "print(\"\\nFinal hidden weights:\")\n",
    "print(*hidden_weights)\n",
    "print(\"Final hidden bias:\")\n",
    "print(*hidden_bias)\n",
    "print(\"Final output weights:\")\n",
    "print(*output_weights)\n",
    "print(\"Final output bias:\")\n",
    "print(*output_bias)\n",
    "print(\"\\nOutput from neural network after 10,000 epochs:\")\n",
    "print(*predicted_output)"
   ]
  },
  {
   "cell_type": "code",
   "execution_count": null,
   "id": "6a50c5cc",
   "metadata": {},
   "outputs": [],
   "source": []
  }
 ],
 "metadata": {
  "kernelspec": {
   "display_name": "Python 3 (ipykernel)",
   "language": "python",
   "name": "python3"
  },
  "language_info": {
   "codemirror_mode": {
    "name": "ipython",
    "version": 3
   },
   "file_extension": ".py",
   "mimetype": "text/x-python",
   "name": "python",
   "nbconvert_exporter": "python",
   "pygments_lexer": "ipython3",
   "version": "3.11.9"
  }
 },
 "nbformat": 4,
 "nbformat_minor": 5
}
