{
 "cells": [
  {
   "cell_type": "code",
   "execution_count": 1,
   "metadata": {
    "colab": {
     "base_uri": "https://localhost:8080/"
    },
    "id": "TGs5dB6e8bxP",
    "outputId": "9f1426e0-36ce-47a2-ffd9-6efa7070928a"
   },
   "outputs": [
    {
     "name": "stdout",
     "output_type": "stream",
     "text": [
      "Pattern: [1 0 1 0 1]\n",
      "Winner: 1\n",
      "Weights: [[0. 0. 0. 0. 0.]\n",
      " [1. 0. 1. 0. 1.]]\n",
      "\n",
      "Pattern: [0 1 0 1 0]\n",
      "Winner: 2\n",
      "Weights: [[0. 0. 0. 0. 0.]\n",
      " [1. 0. 1. 0. 1.]\n",
      " [0. 1. 0. 1. 0.]]\n",
      "\n",
      "Pattern: [1 1 0 1 1]\n",
      "Winner: 3\n",
      "Weights: [[0. 0. 0. 0. 0.]\n",
      " [1. 0. 1. 0. 1.]\n",
      " [0. 1. 0. 1. 0.]\n",
      " [1. 1. 0. 1. 1.]]\n",
      "\n",
      "Pattern: [1 0 0 1 0]\n",
      "Winner: 4\n",
      "Weights: [[0. 0. 0. 0. 0.]\n",
      " [1. 0. 1. 0. 1.]\n",
      " [0. 1. 0. 1. 0.]\n",
      " [1. 1. 0. 1. 1.]\n",
      " [1. 0. 0. 1. 0.]]\n",
      "\n",
      "Pattern: [0 1 1 0 1]\n",
      "Winner: 5\n",
      "Weights: [[0. 0. 0. 0. 0.]\n",
      " [1. 0. 1. 0. 1.]\n",
      " [0. 1. 0. 1. 0.]\n",
      " [1. 1. 0. 1. 1.]\n",
      " [1. 0. 0. 1. 0.]\n",
      " [0. 1. 1. 0. 1.]]\n",
      "\n"
     ]
    },
    {
     "name": "stderr",
     "output_type": "stream",
     "text": [
      "<ipython-input-1-718170019f30>:10: RuntimeWarning: invalid value encountered in true_divide\n",
      "  return x / np.sum(x)\n"
     ]
    }
   ],
   "source": [
    "#Write a program to demonstrate ART \n",
    "import numpy as np\n",
    "\n",
    "class ART:\n",
    "    def __init__(self, input_size, vigilance):\n",
    "        self.input_size = input_size\n",
    "        self.vigilance = vigilance\n",
    "        self.weights = np.zeros((1, input_size))\n",
    "\n",
    "    def normalize(self, x):\n",
    "        return x / np.sum(x)\n",
    "\n",
    "    def match(self, x):\n",
    "        while True:\n",
    "            net_input = np.dot(self.weights, x)\n",
    "            net_input_norm = self.normalize(net_input)\n",
    "            winner_index = np.argmax(net_input_norm)\n",
    "\n",
    "            if net_input_norm[winner_index] >= self.vigilance:\n",
    "                return winner_index\n",
    "            else:\n",
    "                self.weights = np.vstack([self.weights, x])\n",
    "                return self.weights.shape[0] - 1\n",
    "\n",
    "# Example usage\n",
    "input_size = 5\n",
    "vigilance = 0.9\n",
    "\n",
    "art = ART(input_size, vigilance)\n",
    "\n",
    "# Training data\n",
    "data = np.array([[1, 0, 1, 0, 1],\n",
    "                 [0, 1, 0, 1, 0],\n",
    "                 [1, 1, 0, 1, 1]])\n",
    "\n",
    "# Train the ART network\n",
    "for pattern in data:\n",
    "    winner = art.match(pattern)\n",
    "    print(\"Pattern:\", pattern)\n",
    "    print(\"Winner:\", winner)\n",
    "    print(\"Weights:\", art.weights)\n",
    "    print()\n",
    "\n",
    "# Test the ART network\n",
    "test_data = np.array([[1, 0, 0, 1, 0],\n",
    "                      [0, 1, 1, 0, 1]])\n",
    "\n",
    "for pattern in test_data:\n",
    "    winner = art.match(pattern)\n",
    "    print(\"Pattern:\", pattern)\n",
    "    print(\"Winner:\", winner)\n",
    "    print(\"Weights:\", art.weights)\n",
    "    print()"
   ]
  }
 ],
 "metadata": {
  "colab": {
   "provenance": []
  },
  "kernelspec": {
   "display_name": "Python 3 (ipykernel)",
   "language": "python",
   "name": "python3"
  },
  "language_info": {
   "codemirror_mode": {
    "name": "ipython",
    "version": 3
   },
   "file_extension": ".py",
   "mimetype": "text/x-python",
   "name": "python",
   "nbconvert_exporter": "python",
   "pygments_lexer": "ipython3",
   "version": "3.11.9"
  }
 },
 "nbformat": 4,
 "nbformat_minor": 4
}
